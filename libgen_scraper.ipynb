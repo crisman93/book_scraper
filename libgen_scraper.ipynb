{
 "cells": [
  {
   "cell_type": "code",
   "execution_count": 1,
   "id": "fd6f9b9b-b8a7-4686-8100-7cde923265ca",
   "metadata": {},
   "outputs": [
    {
     "name": "stderr",
     "output_type": "stream",
     "text": [
      "/usr/lib/python3/dist-packages/requests/__init__.py:89: RequestsDependencyWarning: urllib3 (1.26.8) or chardet (3.0.4) doesn't match a supported version!\n",
      "  warnings.warn(\"urllib3 ({}) or chardet ({}) doesn't match a supported \"\n"
     ]
    }
   ],
   "source": [
    "from libgen_api import LibgenSearch\n",
    "import pandas as pd\n",
    "import fitz\n",
    "# https://pypi.org/project/libgen-api/"
   ]
  },
  {
   "cell_type": "code",
   "execution_count": 132,
   "id": "d5640b62-e7ca-47af-9205-2a6d398062ad",
   "metadata": {},
   "outputs": [],
   "source": [
    "def scrape_books():\n",
    "    s = LibgenSearch()\n",
    "    x = 0\n",
    "    df = pd.DataFrame(columns = ['ID', 'Author', 'Title', 'Publisher', 'Year', 'Pages', 'Language', 'Size', 'Extension', 'Mirror_1', 'Mirror_2',  'Mirror_3', 'Mirror_4', 'Mirror_5', 'Edit'])\n",
    "    x = True\n",
    "    while True:\n",
    "        author = input('Authors name:')\n",
    "        title = input('Title name:')\n",
    "        filters = {'Author': author,\"Extension\": \"pdf\"}\n",
    "        title = s.search_title_filtered(title, filters, exact_match=True)\n",
    "        if len(title) == 0:\n",
    "            print('No books found')\n",
    "            continue\n",
    "        if len(title) >= 1:\n",
    "            x = 0\n",
    "            for item in title:\n",
    "                print('index_num: ', x, '\\n', \n",
    "                      'Author: ' + item['Author'],  '\\n', \n",
    "                      'Title: ' +  item['Title'], '\\n',\n",
    "                      'Year: ' +  item['Year'], '\\n', \n",
    "                      'Pages: ' +  item['Pages'], '\\n', \n",
    "                      'Language: ' + item['Language'], '\\n', \n",
    "                      'Size: ' + item['Size'])\n",
    "                x+=1\n",
    "            selection = int(input('Enter index number of version you want to keep'))\n",
    "            df = df.append(title[selection], ignore_index = True)\n",
    "            end_case = input('Do you want to find another book? (y/n) ')\n",
    "            if end_case == 'y':\n",
    "                x+=1\n",
    "                print('\\n')\n",
    "                continue\n",
    "            while(end_case != 'n') and (end_case != 'y'):\n",
    "                end_case = input('Please type a valid response (y/n) ')\n",
    "            if end_case == 'n':\n",
    "                break\n",
    "    return df"
   ]
  },
  {
   "cell_type": "code",
   "execution_count": 133,
   "id": "db1ac461-8e42-4ac2-86e5-185548d5aed3",
   "metadata": {},
   "outputs": [
    {
     "name": "stdin",
     "output_type": "stream",
     "text": [
      "Authors name: Edward W. Said\n",
      "Title name: Culture and Imperialism\n"
     ]
    },
    {
     "name": "stdout",
     "output_type": "stream",
     "text": [
      "index_num:  0 \n",
      " Author: Edward W. Said \n",
      " Title: Culture and Imperialism \n",
      " Year: 1994 \n",
      " Pages: 380[204] \n",
      " Language: English \n",
      " Size: 8 Mb\n",
      "index_num:  1 \n",
      " Author: Edward W. Said \n",
      " Title: Culture and imperialism \n",
      " Year: 1994 \n",
      " Pages: 380[407] \n",
      " Language: English \n",
      " Size: 8 Mb\n"
     ]
    },
    {
     "name": "stdin",
     "output_type": "stream",
     "text": [
      "Enter index number of version you want to keep 0\n",
      "Do you want to find another book? (y/n)  y\n"
     ]
    },
    {
     "name": "stdout",
     "output_type": "stream",
     "text": [
      "\n",
      "\n"
     ]
    },
    {
     "name": "stdin",
     "output_type": "stream",
     "text": [
      "Authors name: Edward W. Said\n",
      "Title name: Orientalism\n"
     ]
    },
    {
     "name": "stdout",
     "output_type": "stream",
     "text": [
      "index_num:  0 \n",
      " Author: Edward W. Said \n",
      " Title: Orientalism \n",
      " Year: 1979 \n",
      " Pages: 234 \n",
      " Language: English \n",
      " Size: 2 Mb\n",
      "index_num:  1 \n",
      " Author: Edward W. Said \n",
      " Title: Orientalism: Western Conceptions of the Orient \n",
      " Year: 1979 \n",
      " Pages: 368[378] \n",
      " Language: English \n",
      " Size: 10 Mb\n",
      "index_num:  2 \n",
      " Author: Edward W. Said \n",
      " Title: Orientalism: Western Conceptions of the Orient (Penguin Modern Classics) \n",
      " Year: 2003 \n",
      " Pages: 432[414] \n",
      " Language: English \n",
      " Size: 6 Mb\n",
      "index_num:  3 \n",
      " Author: Edward W. Said \n",
      " Title: Orientalism \n",
      " Year: 1979 \n",
      " Pages: 368[378] \n",
      " Language: English \n",
      " Size: 10 Mb\n",
      "index_num:  4 \n",
      " Author: Edward W. Said \n",
      " Title: Orientalism \n",
      " Year: 1979 \n",
      " Pages: 368[378] \n",
      " Language: English \n",
      " Size: 10 Mb\n"
     ]
    },
    {
     "name": "stdin",
     "output_type": "stream",
     "text": [
      "Enter index number of version you want to keep 0\n",
      "Do you want to find another book? (y/n)  y\n"
     ]
    },
    {
     "name": "stdout",
     "output_type": "stream",
     "text": [
      "\n",
      "\n"
     ]
    },
    {
     "name": "stdin",
     "output_type": "stream",
     "text": [
      "Authors name: Frantz Fanon\n",
      "Title name: Wretched of the Earth\n"
     ]
    },
    {
     "name": "stdout",
     "output_type": "stream",
     "text": [
      "index_num:  0 \n",
      " Author: Frantz Fanon \n",
      " Title: The Wretched of the Earth \n",
      " Year: 1965 \n",
      " Pages: 255[196] \n",
      " Language: English \n",
      " Size: 1004 Kb\n",
      "index_num:  1 \n",
      " Author: Frantz Fanon \n",
      " Title: The Wretched of the Earth \n",
      " Year: 2005 \n",
      " Pages: 161 \n",
      " Language: English \n",
      " Size: 15 Mb\n"
     ]
    },
    {
     "name": "stdin",
     "output_type": "stream",
     "text": [
      "Enter index number of version you want to keep 0\n",
      "Do you want to find another book? (y/n)  y\n"
     ]
    },
    {
     "name": "stdout",
     "output_type": "stream",
     "text": [
      "\n",
      "\n"
     ]
    },
    {
     "name": "stdin",
     "output_type": "stream",
     "text": [
      "Authors name: Frantz Fanon\n",
      "Title name: Black Skin, White Masks\n"
     ]
    },
    {
     "name": "stdout",
     "output_type": "stream",
     "text": [
      "index_num:  0 \n",
      " Author: Frantz Fanon \n",
      " Title: Black Skin, White Masks (Pluto Classics) \n",
      " Year: 1986 \n",
      " Pages: 276[225] \n",
      " Language: English \n",
      " Size: 826 Kb\n",
      "index_num:  1 \n",
      " Author: Frantz Fanon \n",
      " Title: Black Skin, White Masks, New Edition (Get Political) (2008) \n",
      " Year: 2008 \n",
      " Pages: 225 \n",
      " Language: English \n",
      " Size: 824 Kb\n",
      "index_num:  2 \n",
      " Author: Frantz Fanon \n",
      " Title: Black Skin, White Masks \n",
      " Year: 1986 \n",
      " Pages: 232[251] \n",
      " Language: English \n",
      " Size: 5 Mb\n",
      "index_num:  3 \n",
      " Author: Frantz Fanon \n",
      " Title: Black Skin, White Masks \n",
      " Year: 2008 \n",
      " Pages: 224[225] \n",
      " Language: English \n",
      " Size: 3 Mb\n"
     ]
    },
    {
     "name": "stdin",
     "output_type": "stream",
     "text": [
      "Enter index number of version you want to keep 0\n",
      "Do you want to find another book? (y/n)  y\n"
     ]
    },
    {
     "name": "stdout",
     "output_type": "stream",
     "text": [
      "\n",
      "\n"
     ]
    },
    {
     "name": "stdin",
     "output_type": "stream",
     "text": [
      "Authors name: Homi Bhabha\n",
      "Title name: Location of Culture\n"
     ]
    },
    {
     "name": "stdout",
     "output_type": "stream",
     "text": [
      "No books found\n"
     ]
    },
    {
     "name": "stdin",
     "output_type": "stream",
     "text": [
      "Authors name: Homi K. Bhabha\n",
      "Title name: Location of Culture\n"
     ]
    },
    {
     "name": "stdout",
     "output_type": "stream",
     "text": [
      "index_num:  0 \n",
      " Author: Homi K. Bhabha \n",
      " Title: The Location of Culture (Routledge Classics) \n",
      " Year: 1994 \n",
      " Pages: 299 \n",
      " Language: English \n",
      " Size: 6 Mb\n",
      "index_num:  1 \n",
      " Author: Homi K. Bhabha \n",
      " Title: The Location of Culture (Routledge Classics) \n",
      " Year: 1994 \n",
      " Pages: 295 \n",
      " Language: English \n",
      " Size: 47 Mb\n",
      "index_num:  2 \n",
      " Author: Homi K. Bhabha \n",
      " Title: The location of culture \n",
      " Year: 1994 \n",
      " Pages: 295 \n",
      " Language: English \n",
      " Size: 12 Mb\n",
      "index_num:  3 \n",
      " Author: Homi K. Bhabha \n",
      " Title: The location of culture \n",
      " Year: 1994 \n",
      " Pages: 295 \n",
      " Language: English \n",
      " Size: 22 Mb\n",
      "index_num:  4 \n",
      " Author: Homi K. Bhabha \n",
      " Title: The Location of Culture \n",
      " Year: 1994 \n",
      " Pages: 440 \n",
      " Language: English \n",
      " Size: 2 Mb\n"
     ]
    },
    {
     "name": "stdin",
     "output_type": "stream",
     "text": [
      "Enter index number of version you want to keep 0\n",
      "Do you want to find another book? (y/n)  y\n"
     ]
    },
    {
     "name": "stdout",
     "output_type": "stream",
     "text": [
      "\n",
      "\n"
     ]
    },
    {
     "name": "stdin",
     "output_type": "stream",
     "text": [
      "Authors name: Martin Bernal\n",
      "Title name: Black Athena\n"
     ]
    },
    {
     "name": "stdout",
     "output_type": "stream",
     "text": [
      "index_num:  0 \n",
      " Author: Martin Bernal \n",
      " Title: Black Athena: The Afroasiatic Roots of Classical Civilization : The Fabrication of Ancient Greece, 1785-1985 \n",
      " Year: 1987 \n",
      " Pages: 575[303] \n",
      " Language: English \n",
      " Size: 32 Mb\n",
      "index_num:  1 \n",
      " Author: Martin Bernal \n",
      " Title: Black Athena: The Afroasiatic Roots of Classical Civilization : Vol. II - The Archaeological and Documentary Evidence \n",
      " Year: 1991 \n",
      " Pages: 385 \n",
      " Language: English \n",
      " Size: 60 Mb\n",
      "index_num:  2 \n",
      " Author: Martin Bernal \n",
      " Title: Black Athena: The Afroasiatic Roots of Classical Civilization: The Linguistic Evidence, Vol. 3 \n",
      " Year: 2006 \n",
      " Pages: 848 \n",
      " Language: English \n",
      " Size: 4 Mb\n",
      "index_num:  3 \n",
      " Author: Martin Bernal \n",
      " Title: Black Athena Writes Back: Martin Bernal Responds to His Critics \n",
      " Year: 2001 \n",
      " Pages: 576[578] \n",
      " Language: English \n",
      " Size: 5 Mb\n",
      "index_num:  4 \n",
      " Author: Martin Bernal \n",
      " Title: Black Athena: The Afroasiatic Roots of Classical Civilization: 001 \n",
      " Year: 1987 \n",
      " Pages: 608[303] \n",
      " Language: English \n",
      " Size: 32 Mb\n",
      "index_num:  5 \n",
      " Author: Martin Bernal \n",
      " Title: Black Athena: The Archaeological and Documentary Evidence \n",
      " Year: 1991 \n",
      " Pages: [761] \n",
      " Language: English \n",
      " Size: 135 Mb\n",
      "index_num:  6 \n",
      " Author: Martin Bernal \n",
      " Title: Black Athena: The Afroasiatic Roots of Classical Civilization \n",
      " Year: 1987 \n",
      " Pages: [604] \n",
      " Language: English \n",
      " Size: 101 Mb\n"
     ]
    },
    {
     "name": "stdin",
     "output_type": "stream",
     "text": [
      "Enter index number of version you want to keep 0\n",
      "Do you want to find another book? (y/n)  y\n"
     ]
    },
    {
     "name": "stdout",
     "output_type": "stream",
     "text": [
      "\n",
      "\n"
     ]
    },
    {
     "name": "stdin",
     "output_type": "stream",
     "text": [
      "Authors name: Edward W. Said\n",
      "Title name: World, Critic, Text\n"
     ]
    },
    {
     "name": "stdout",
     "output_type": "stream",
     "text": [
      "index_num:  0 \n",
      " Author: Edward W. Said \n",
      " Title: The World, the Text, and the Critic \n",
      " Year: 1983 \n",
      " Pages: 357 \n",
      " Language: Arabic \n",
      " Size: 2 Mb\n",
      "index_num:  1 \n",
      " Author: Edward W. Said \n",
      " Title: The Text, The World, The Critic \n",
      " Year: 1983 \n",
      " Pages: 336 \n",
      " Language: English \n",
      " Size: 21 Mb\n"
     ]
    },
    {
     "name": "stdin",
     "output_type": "stream",
     "text": [
      "Enter index number of version you want to keep 0\n",
      "Do you want to find another book? (y/n)  y\n"
     ]
    },
    {
     "name": "stdout",
     "output_type": "stream",
     "text": [
      "\n",
      "\n"
     ]
    },
    {
     "name": "stdin",
     "output_type": "stream",
     "text": [
      "Authors name: Bruce Robbins\n",
      "Title name: Perpetual War\n"
     ]
    },
    {
     "name": "stdout",
     "output_type": "stream",
     "text": [
      "index_num:  0 \n",
      " Author: Bruce Robbins \n",
      " Title: Perpetual War: Cosmopolitanism from the Viewpoint of Violence \n",
      " Year: 2012 \n",
      " Pages: 258 \n",
      " Language: English \n",
      " Size: 1 Mb\n"
     ]
    },
    {
     "name": "stdin",
     "output_type": "stream",
     "text": [
      "Enter index number of version you want to keep 0\n",
      "Do you want to find another book? (y/n)  n\n"
     ]
    }
   ],
   "source": [
    "df = scrape_books()"
   ]
  },
  {
   "cell_type": "code",
   "execution_count": 136,
   "id": "45cf970a-4653-41df-8b96-dbc8fdaaec2d",
   "metadata": {},
   "outputs": [],
   "source": [
    "df.to_csv('post_colonial_books.csv')"
   ]
  }
 ],
 "metadata": {
  "kernelspec": {
   "display_name": "Python 3 (ipykernel)",
   "language": "python",
   "name": "python3"
  },
  "language_info": {
   "codemirror_mode": {
    "name": "ipython",
    "version": 3
   },
   "file_extension": ".py",
   "mimetype": "text/x-python",
   "name": "python",
   "nbconvert_exporter": "python",
   "pygments_lexer": "ipython3",
   "version": "3.8.10"
  }
 },
 "nbformat": 4,
 "nbformat_minor": 5
}
